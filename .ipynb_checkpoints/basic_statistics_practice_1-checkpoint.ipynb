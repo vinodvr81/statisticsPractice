{
 "cells": [
  {
   "cell_type": "code",
   "execution_count": 1,
   "id": "d3619dcc-d6dd-4838-b78c-93692823c597",
   "metadata": {},
   "outputs": [],
   "source": [
    "import pandas as pd\n",
    "import numpy as np"
   ]
  },
  {
   "cell_type": "code",
   "execution_count": 2,
   "id": "9375ca14-820a-4977-9991-7786119a1b11",
   "metadata": {},
   "outputs": [
    {
     "name": "stdout",
     "output_type": "stream",
     "text": [
      "the mean is : 9.375\n"
     ]
    }
   ],
   "source": [
    "x_data = [2,4,6,7,20,10,22,4]\n",
    "y_sol = np.array(x_data)\n",
    "print(f\"the mean is : {y_sol.mean()}\")"
   ]
  },
  {
   "cell_type": "code",
   "execution_count": 3,
   "id": "65932f05-634f-4ca5-a0c6-04aebaa86927",
   "metadata": {},
   "outputs": [
    {
     "name": "stdout",
     "output_type": "stream",
     "text": [
      "the median is : 6.5\n"
     ]
    }
   ],
   "source": [
    "print(f\"the median is : {np.median(y_sol)}\")"
   ]
  },
  {
   "cell_type": "code",
   "execution_count": 4,
   "id": "63b0123f-232f-4371-8847-873daea675a5",
   "metadata": {},
   "outputs": [
    {
     "name": "stdout",
     "output_type": "stream",
     "text": [
      "the mode is : 4\n"
     ]
    }
   ],
   "source": [
    "from statistics import mode\n",
    "print(f\"the mode is : {mode(x_data)}\")"
   ]
  },
  {
   "cell_type": "code",
   "execution_count": 5,
   "id": "20e88da0-dd5c-4af8-be03-ced3a0438394",
   "metadata": {},
   "outputs": [
    {
     "name": "stdout",
     "output_type": "stream",
     "text": [
      "   Unnamed: 0  Gender  FSIQ  VIQ  PIQ  Weight  Height  MRI_Count\n",
      "0           1  Female   133  132  124   118.0    64.5     816932\n",
      "1           2    Male   140  150  124     NaN    72.5    1001121\n",
      "2           3    Male   139  123  150   143.0    73.3    1038437\n",
      "3           4    Male   133  129  128   172.0    68.8     965353\n",
      "4           5  Female   137  132  134   147.0    65.0     951545\n",
      "\n",
      "\n",
      "    Unnamed: 0  Gender  FSIQ  VIQ  PIQ  Weight  Height  MRI_Count\n",
      "0            1  Female   133  132  124   118.0    64.5     816932\n",
      "4            5  Female   137  132  134   147.0    65.0     951545\n",
      "5            6  Female    99   90  110   146.0    69.0     928799\n",
      "6            7  Female   138  136  131   138.0    64.5     991305\n",
      "7            8  Female    92   90   98   175.0    66.0     854258\n",
      "10          11  Female   132  129  124   118.0    64.5     833868\n",
      "13          14  Female   140  120  147   155.0    70.5     856472\n",
      "14          15  Female    96  100   90   146.0    66.0     878897\n",
      "15          16  Female    83   71   96   135.0    68.0     865363\n",
      "16          17  Female   132  132  120   127.0    68.5     852244\n",
      "18          19  Female   101  112   84   136.0    66.3     808020\n",
      "22          23  Female   135  129  134   122.0    62.0     790619\n",
      "24          25  Female    91   86  102   114.0    63.0     831772\n",
      "26          27  Female    85   90   84   140.0    68.0     798612\n",
      "28          29  Female    77   83   72   106.0    63.0     793549\n",
      "29          30  Female   130  126  124   159.0    66.5     866662\n",
      "30          31  Female   133  126  132   127.0    62.5     857782\n",
      "34          35  Female    83   90   81   143.0    66.5     834344\n",
      "35          36  Female   133  129  128   153.0    66.5     948066\n",
      "37          38  Female    88   86   94   139.0    64.5     893983\n",
      "\n",
      "\n",
      "The mean value of Female VIQ is  109.45\n"
     ]
    }
   ],
   "source": [
    "data=pd.read_csv(\"brain_size.csv\",sep=';',na_values='.')\n",
    "print(data.head())\n",
    "print(\"\\n\")\n",
    "data1=data[data['Gender']=='Female']['VIQ']\n",
    "print(data[data['Gender']=='Female'])\n",
    "print(\"\\n\")\n",
    "print(\"The mean value of Female VIQ is \",\n",
    "data1.mean())"
   ]
  },
  {
   "cell_type": "code",
   "execution_count": 7,
   "id": "8f6622b4-dba6-4a64-a650-46e4e40073fa",
   "metadata": {},
   "outputs": [
    {
     "name": "stdout",
     "output_type": "stream",
     "text": [
      "    Unnamed: 0 Gender  FSIQ  VIQ  PIQ  Weight  Height  MRI_Count\n",
      "1            2   Male   140  150  124     NaN    72.5    1001121\n",
      "2            3   Male   139  123  150   143.0    73.3    1038437\n",
      "3            4   Male   133  129  128   172.0    68.8     965353\n",
      "8            9   Male    89   93   84   134.0    66.3     904858\n",
      "9           10   Male   133  114  147   172.0    68.8     955466\n",
      "11          12   Male   141  150  128   151.0    70.0    1079549\n",
      "12          13   Male   135  129  124   155.0    69.0     924059\n",
      "17          18   Male   100   96  102   178.0    73.5     945088\n",
      "19          20   Male    80   77   86   180.0    70.0     889083\n",
      "20          21   Male    83   83   86     NaN     NaN     892420\n",
      "21          22   Male    97  107   84   186.0    76.5     905940\n",
      "23          24   Male   139  145  128   132.0    68.0     955003\n",
      "25          26   Male   141  145  131   171.0    72.0     935494\n",
      "27          28   Male   103   96  110   187.0    77.0    1062462\n",
      "31          32   Male   144  145  137   191.0    67.0     949589\n",
      "32          33   Male   103   96  110   192.0    75.5     997925\n",
      "33          34   Male    90   96   86   181.0    69.0     879987\n",
      "36          37   Male   140  150  124   144.0    70.5     949395\n",
      "38          39   Male    81   90   74   148.0    74.0     930016\n",
      "39          40   Male    89   91   89   179.0    75.5     935863\n",
      "\n",
      "\n",
      "The mean value of Male VIQ is  115.25\n",
      "The mode value of Male VIQ is  96\n"
     ]
    }
   ],
   "source": [
    "data_m=data[data['Gender']=='Male']['VIQ']\n",
    "print(data[data['Gender']=='Male'])\n",
    "print(\"\\n\")\n",
    "print(\"The mean value of Male VIQ is \",\n",
    "data_m.mean())\n",
    "print(\"The mode value of Male VIQ is \",\n",
    "mode(data_m))"
   ]
  },
  {
   "cell_type": "code",
   "execution_count": null,
   "id": "d169b1e1-4212-4f47-9ef0-ea6bea7f0908",
   "metadata": {},
   "outputs": [],
   "source": []
  }
 ],
 "metadata": {
  "kernelspec": {
   "display_name": "Python 3 (ipykernel)",
   "language": "python",
   "name": "python3"
  },
  "language_info": {
   "codemirror_mode": {
    "name": "ipython",
    "version": 3
   },
   "file_extension": ".py",
   "mimetype": "text/x-python",
   "name": "python",
   "nbconvert_exporter": "python",
   "pygments_lexer": "ipython3",
   "version": "3.10.12"
  }
 },
 "nbformat": 4,
 "nbformat_minor": 5
}
